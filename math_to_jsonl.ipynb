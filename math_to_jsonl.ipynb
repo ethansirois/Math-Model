{
 "cells": [
  {
   "cell_type": "code",
   "execution_count": 99,
   "metadata": {},
   "outputs": [],
   "source": [
    "import os\n",
    "import json\n",
    "import random\n",
    "\n",
    "root_dir = '../MATH'  # Replace with your directory\n",
    "num_files_to_load = 1000  # Replace with number of files you want to pick\n",
    "\n",
    "# Set a seed for randomness\n",
    "random.seed(123)\n",
    "\n",
    "json_files = []\n",
    "\n",
    "# Search for json files in sub-folders of root directory\n",
    "for dirpath, _, filenames in os.walk(root_dir):\n",
    "    for f in filenames:\n",
    "        if f.endswith('.json'):\n",
    "            json_files.append(os.path.join(dirpath, f))\n",
    "\n",
    "# Randomly select files\n",
    "files_to_load = random.sample(json_files, num_files_to_load)\n",
    "\n",
    "data = []\n",
    "\n",
    "# Load content from files\n",
    "for filename in files_to_load:\n",
    "    with open(filename, 'r') as f:\n",
    "        data.append(json.load(f))\n",
    "\n",
    "# print(data)"
   ]
  },
  {
   "cell_type": "code",
   "execution_count": 100,
   "metadata": {},
   "outputs": [],
   "source": [
    "extracted_data = []\n",
    "converted_data = []\n",
    "\n",
    "for datum in data:\n",
    "    problem = datum.get('problem')\n",
    "    solution = datum.get('solution')\n",
    "    # Extract the boxed solution\n",
    "    boxed_solution = \"\"\n",
    "    if \"\\\\boxed{\" in solution:\n",
    "        start = solution.index(\"\\\\boxed{\") + len(\"$\\boxed{\")\n",
    "        end = solution.index(\"}\", start)\n",
    "        boxed_solution = solution[start:end]\n",
    "    extracted_data.append({'problem': problem, 'boxed_solution': boxed_solution})\n",
    "    \n",
    "# Check if only numbers and periods in boxed_solution, convert to float\n",
    "for item in extracted_data:\n",
    "    boxed_solution = item['boxed_solution']\n",
    "    if all(c.isdigit() or c == '.' for c in boxed_solution):\n",
    "        item['boxed_solution'] = float(boxed_solution)\n",
    "        converted_data.append(item)\n",
    "\n",
    "# print(converted_data)"
   ]
  },
  {
   "cell_type": "code",
   "execution_count": 101,
   "metadata": {},
   "outputs": [],
   "source": [
    "with open('sanitized_data.jsonl', 'w') as outfile:\n",
    "    for entry in converted_data:\n",
    "        json.dump(entry, outfile)\n",
    "        outfile.write('\\n')"
   ]
  }
 ],
 "metadata": {
  "kernelspec": {
   "display_name": "Python 3",
   "language": "python",
   "name": "python3"
  },
  "language_info": {
   "codemirror_mode": {
    "name": "ipython",
    "version": 3
   },
   "file_extension": ".py",
   "mimetype": "text/x-python",
   "name": "python",
   "nbconvert_exporter": "python",
   "pygments_lexer": "ipython3",
   "version": "3.10.7"
  },
  "orig_nbformat": 4
 },
 "nbformat": 4,
 "nbformat_minor": 2
}
