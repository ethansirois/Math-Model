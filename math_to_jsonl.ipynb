{
 "cells": [
  {
   "cell_type": "code",
   "execution_count": 99,
   "metadata": {},
   "outputs": [],
   "source": [
    "import os\n",
    "import json\n",
    "import random\n",
    "\n",
    "root_dir = '../MATH'  # Replace with your directory\n",
    "num_files_to_load = 1000  # Replace with number of files you want to pick\n",
    "\n",
    "# Set a seed for randomness\n",
    "random.seed(123)\n",
    "\n",
    "json_files = []\n",
    "\n",
    "# Search for json files in sub-folders of root directory\n",
    "for dirpath, _, filenames in os.walk(root_dir):\n",
    "    for f in filenames:\n",
    "        if f.endswith('.json'):\n",
    "            json_files.append(os.path.join(dirpath, f))\n",
    "\n",
    "# Randomly select files\n",
    "files_to_load = random.sample(json_files, num_files_to_load)\n",
    "\n",
    "data = []\n",
    "\n",
    "# Load content from files\n",
    "for filename in files_to_load:\n",
    "    with open(filename, 'r') as f:\n",
    "        data.append(json.load(f))\n",
    "\n",
    "# print(data)"
   ]
  },
  {
   "cell_type": "code",
   "execution_count": 100,
   "metadata": {},
   "outputs": [],
   "source": [
    "extracted_data = []\n",
    "converted_data = []\n",
    "\n",
    "for datum in data:\n",
    "    problem = datum.get('problem')\n",
    "    solution = datum.get('solution')\n",
    "    # Extract the boxed solution\n",
    "    boxed_solution = \"\"\n",
    "    if \"\\\\boxed{\" in solution:\n",
    "        start = solution.index(\"\\\\boxed{\") + len(\"$\\boxed{\")\n",
    "        end = solution.index(\"}\", start)\n",
    "        boxed_solution = solution[start:end]\n",
    "    extracted_data.append({'problem': problem, 'boxed_solution': boxed_solution})\n",
    "    \n",
    "# Check if only numbers and periods in boxed_solution, convert to float\n",
    "for item in extracted_data:\n",
    "    boxed_solution = item['boxed_solution']\n",
    "    if all(c.isdigit() or c == '.' for c in boxed_solution):\n",
    "        item['boxed_solution'] = float(boxed_solution)\n",
    "        converted_data.append(item)\n",
    "\n",
    "# print(converted_data)"
   ]
  },
  {
   "cell_type": "code",
   "execution_count": 101,
   "metadata": {},
   "outputs": [],
   "source": [
    "with open('sanitized_data.jsonl', 'w') as outfile:\n",
    "    for entry in converted_data:\n",
    "        json.dump(entry, outfile)\n",
    "        outfile.write('\\n')"
   ]
  },
  {
   "cell_type": "code",
   "execution_count": 7,
   "metadata": {},
   "outputs": [],
   "source": [
    "import json\n",
    "import random\n",
    "from typing import Any, Dict\n",
    "\n",
    "def convert_jsonl_file(input_path: str, output_path: str) -> None:\n",
    "    with open(input_path, 'r') as fr, open(output_path, 'w') as fw:\n",
    "        i = 0\n",
    "        for line in fr:\n",
    "            i += 1\n",
    "            old_line = json.loads(line)\n",
    "            new_line = transform_line(old_line, i)\n",
    "            fw.write(json.dumps(new_line))\n",
    "            fw.write('\\n')\n",
    "\n",
    "def transform_line(line: Dict[str, Any], i) -> Dict[str, Any]:\n",
    "\n",
    "    human_eval_format_prompt = f'''\n",
    "def solveMathProblem():\n",
    "    \"\"\"\n",
    "    Finds the solution to the following math word problem. Returns a float:\n",
    "    {line[\"problem\"]}\n",
    "    \"\"\"\n",
    "'''\n",
    "\n",
    "    canonical_solution = f'''\n",
    "    return {line[\"boxed_solution\"]}\n",
    "'''\n",
    "\n",
    "    test_answer = f'''\n",
    "def check(candidate):\n",
    "    assert type(candidate) == float, \"The answer must be a float.\"\n",
    "    min = float({line[\"boxed_solution\"]}) - 0.1\n",
    "    max = float({line[\"boxed_solution\"]}) + 0.1\n",
    "    assert min <= candidate <= max, \"The answer must be between the min and max values.\"\n",
    "'''\n",
    "\n",
    "    new_line = {\n",
    "        \"task_id\": f\"MATH_{str(i)}\",\n",
    "        \"prompt\": human_eval_format_prompt,\n",
    "        \"entry_point\": \"solveMathProblem\",\n",
    "        \"canonical_solution\": canonical_solution,\n",
    "        \"test\": test_answer\n",
    "    }\n",
    "    return new_line\n",
    "\n",
    "# Use the function to convert the file\n",
    "convert_jsonl_file('sanitized_data.jsonl', 'output.jsonl')"
   ]
  },
  {
   "cell_type": "code",
   "execution_count": 3,
   "metadata": {},
   "outputs": [
    {
     "data": {
      "text/plain": [
       "{'task_id': 'HumanEval/114',\n",
       " 'prompt': '\\ndef minSubArraySum(nums):\\n    \"\"\"\\n    Given an array of integers nums, find the minimum sum of any non-empty sub-array\\n    of nums.\\n    Example\\n    minSubArraySum([2, 3, 4, 1, 2, 4]) == 1\\n    minSubArraySum([-1, -2, -3]) == -6\\n    \"\"\"\\n',\n",
       " 'entry_point': 'minSubArraySum',\n",
       " 'canonical_solution': '    max_sum = 0\\n    s = 0\\n    for num in nums:\\n        s += -num\\n        if (s < 0):\\n            s = 0\\n        max_sum = max(s, max_sum)\\n    if max_sum == 0:\\n        max_sum = max(-i for i in nums)\\n    min_sum = -max_sum\\n    return min_sum\\n',\n",
       " 'test': 'def check(candidate):\\n\\n    # Check some simple cases\\n    assert candidate([2, 3, 4, 1, 2, 4]) == 1, \"This prints if this assert fails 1 (good for debugging!)\"\\n    assert candidate([-1, -2, -3]) == -6\\n    assert candidate([-1, -2, -3, 2, -10]) == -14\\n    assert candidate([-9999999999999999]) == -9999999999999999\\n    assert candidate([0, 10, 20, 1000000]) == 0\\n    assert candidate([-1, -2, -3, 10, -5]) == -6\\n    assert candidate([100, -1, -2, -3, 10, -5]) == -6\\n    assert candidate([10, 11, 13, 8, 3, 4]) == 3\\n    assert candidate([100, -33, 32, -1, 0, -2]) == -33\\n\\n    # Check some edge cases that are easy to work out by hand.\\n    assert candidate([-10]) == -10, \"This prints if this assert fails 2 (also good for debugging!)\"\\n    assert candidate([7]) == 7\\n    assert candidate([1, -1]) == -1\\n'}"
      ]
     },
     "execution_count": 3,
     "metadata": {},
     "output_type": "execute_result"
    }
   ],
   "source": [
    "{\"task_id\": \"HumanEval/114\", \"prompt\": \"\\ndef minSubArraySum(nums):\\n    \\\"\\\"\\\"\\n    Given an array of integers nums, find the minimum sum of any non-empty sub-array\\n    of nums.\\n    Example\\n    minSubArraySum([2, 3, 4, 1, 2, 4]) == 1\\n    minSubArraySum([-1, -2, -3]) == -6\\n    \\\"\\\"\\\"\\n\", \"entry_point\": \"minSubArraySum\", \"canonical_solution\": \"    max_sum = 0\\n    s = 0\\n    for num in nums:\\n        s += -num\\n        if (s < 0):\\n            s = 0\\n        max_sum = max(s, max_sum)\\n    if max_sum == 0:\\n        max_sum = max(-i for i in nums)\\n    min_sum = -max_sum\\n    return min_sum\\n\", \"test\": \"def check(candidate):\\n\\n    # Check some simple cases\\n    assert candidate([2, 3, 4, 1, 2, 4]) == 1, \\\"This prints if this assert fails 1 (good for debugging!)\\\"\\n    assert candidate([-1, -2, -3]) == -6\\n    assert candidate([-1, -2, -3, 2, -10]) == -14\\n    assert candidate([-9999999999999999]) == -9999999999999999\\n    assert candidate([0, 10, 20, 1000000]) == 0\\n    assert candidate([-1, -2, -3, 10, -5]) == -6\\n    assert candidate([100, -1, -2, -3, 10, -5]) == -6\\n    assert candidate([10, 11, 13, 8, 3, 4]) == 3\\n    assert candidate([100, -33, 32, -1, 0, -2]) == -33\\n\\n    # Check some edge cases that are easy to work out by hand.\\n    assert candidate([-10]) == -10, \\\"This prints if this assert fails 2 (also good for debugging!)\\\"\\n    assert candidate([7]) == 7\\n    assert candidate([1, -1]) == -1\\n\"}"
   ]
  },
  {
   "cell_type": "code",
   "execution_count": 8,
   "metadata": {},
   "outputs": [
    {
     "data": {
      "text/plain": [
       "{'task_id': 'MATH_1',\n",
       " 'prompt': '\\ndef solveMathProblem():\\n    \"\"\"\\n    Finds the solution to the following math word problem. Returns a float:\\n    Abby, Bart, Cindy and Damon weigh themselves in pairs. Together Abby and Bart weigh 160 pounds, Bart and Cindy weigh 180 pounds, and Cindy and Damon weigh 200 pounds. How many pounds do Abby and Damon weigh together?\\n    \"\"\"\\n',\n",
       " 'entry_point': 'solveMathProblem',\n",
       " 'canonical_solution': '\\n    return 180.0\\n',\n",
       " 'test': '\\ndef check(candidate):\\n    assert type(candidate) == float, \"The answer must be a float.\"\\n    min = float(180.0) - 0.1\\n    max = float(180.0) + 0.1\\n    assert min <= candidate <= max, \"The answer must be between the min and max values.\"\\n'}"
      ]
     },
     "execution_count": 8,
     "metadata": {},
     "output_type": "execute_result"
    }
   ],
   "source": [
    "{\"task_id\": \"MATH_1\", \"prompt\": \"\\ndef solveMathProblem():\\n    \\\"\\\"\\\"\\n    Finds the solution to the following math word problem. Returns a float:\\n    Abby, Bart, Cindy and Damon weigh themselves in pairs. Together Abby and Bart weigh 160 pounds, Bart and Cindy weigh 180 pounds, and Cindy and Damon weigh 200 pounds. How many pounds do Abby and Damon weigh together?\\n    \\\"\\\"\\\"\\n\", \"entry_point\": \"solveMathProblem\", \"canonical_solution\": \"\\n    return 180.0\\n\", \"test\": \"\\ndef check(candidate):\\n    assert type(candidate) == float, \\\"The answer must be a float.\\\"\\n    min = float(180.0) - 0.1\\n    max = float(180.0) + 0.1\\n    assert min <= candidate <= max, \\\"The answer must be between the min and max values.\\\"\\n\"}"
   ]
  }
 ],
 "metadata": {
  "kernelspec": {
   "display_name": "Python 3",
   "language": "python",
   "name": "python3"
  },
  "language_info": {
   "codemirror_mode": {
    "name": "ipython",
    "version": 3
   },
   "file_extension": ".py",
   "mimetype": "text/x-python",
   "name": "python",
   "nbconvert_exporter": "python",
   "pygments_lexer": "ipython3",
   "version": "3.10.7"
  },
  "orig_nbformat": 4
 },
 "nbformat": 4,
 "nbformat_minor": 2
}
